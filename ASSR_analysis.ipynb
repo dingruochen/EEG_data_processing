{
 "cells": [
  {
   "cell_type": "code",
   "execution_count": 2,
   "metadata": {},
   "outputs": [
    {
     "ename": "ValueError",
     "evalue": "The file /Users/ruochending/Documents/MATLAB/Measurements-07_07/1node_2CHs_1.csv does not have column index 1.",
     "output_type": "error",
     "traceback": [
      "\u001b[0;31m---------------------------------------------------------------------------\u001b[0m",
      "\u001b[0;31mValueError\u001b[0m                                Traceback (most recent call last)",
      "Cell \u001b[0;32mIn[2], line 17\u001b[0m\n\u001b[1;32m     14\u001b[0m file_paths \u001b[38;5;241m=\u001b[39m [os\u001b[38;5;241m.\u001b[39mpath\u001b[38;5;241m.\u001b[39mjoin(base_dir, file_name) \u001b[38;5;28;01mfor\u001b[39;00m file_name \u001b[38;5;129;01min\u001b[39;00m file_names]\n\u001b[1;32m     16\u001b[0m \u001b[38;5;28;01mfor\u001b[39;00m file_path \u001b[38;5;129;01min\u001b[39;00m file_paths:\n\u001b[0;32m---> 17\u001b[0m     result \u001b[38;5;241m=\u001b[39m calculate_parameters(file_path, column_index\u001b[38;5;241m=\u001b[39m\u001b[38;5;241m1\u001b[39m, start_from\u001b[38;5;241m=\u001b[39m\u001b[38;5;241m0\u001b[39m, target_frequency\u001b[38;5;241m=\u001b[39m\u001b[38;5;241m80\u001b[39m, target_bandwidth\u001b[38;5;241m=\u001b[39m\u001b[38;5;241m1\u001b[39m)\n\u001b[1;32m     18\u001b[0m     \u001b[38;5;28;01mif\u001b[39;00m result:\n\u001b[1;32m     19\u001b[0m         snr, peak_freq, peak_power, noise_power_avg, peak_50Hz_power, eighty_to_fifty_ratio, freq_full, psdx_full, peak_50Hz_full \u001b[38;5;241m=\u001b[39m result\n",
      "File \u001b[0;32m~/Documents/python/github/EEG_data_processing/ASSR_function.py:11\u001b[0m, in \u001b[0;36mcalculate_parameters\u001b[0;34m(file_path, column_index, start_from, target_frequency, target_bandwidth)\u001b[0m\n\u001b[1;32m      9\u001b[0m df \u001b[38;5;241m=\u001b[39m pd\u001b[38;5;241m.\u001b[39mread_csv(file_path, delimiter\u001b[38;5;241m=\u001b[39m\u001b[38;5;124m'\u001b[39m\u001b[38;5;130;01m\\t\u001b[39;00m\u001b[38;5;124m'\u001b[39m)\n\u001b[1;32m     10\u001b[0m \u001b[38;5;28;01mif\u001b[39;00m df\u001b[38;5;241m.\u001b[39mshape[\u001b[38;5;241m1\u001b[39m] \u001b[38;5;241m<\u001b[39m\u001b[38;5;241m=\u001b[39m column_index:\n\u001b[0;32m---> 11\u001b[0m     \u001b[38;5;28;01mraise\u001b[39;00m \u001b[38;5;167;01mValueError\u001b[39;00m(\u001b[38;5;124mf\u001b[39m\u001b[38;5;124m\"\u001b[39m\u001b[38;5;124mThe file \u001b[39m\u001b[38;5;132;01m{\u001b[39;00mfile_path\u001b[38;5;132;01m}\u001b[39;00m\u001b[38;5;124m does not have column index \u001b[39m\u001b[38;5;132;01m{\u001b[39;00mcolumn_index\u001b[38;5;132;01m}\u001b[39;00m\u001b[38;5;124m.\u001b[39m\u001b[38;5;124m\"\u001b[39m)\n\u001b[1;32m     13\u001b[0m x \u001b[38;5;241m=\u001b[39m df\u001b[38;5;241m.\u001b[39miloc[start_from:, column_index]\u001b[38;5;241m.\u001b[39mdropna()\n\u001b[1;32m     15\u001b[0m xdft_full \u001b[38;5;241m=\u001b[39m fft(x)\n",
      "\u001b[0;31mValueError\u001b[0m: The file /Users/ruochending/Documents/MATLAB/Measurements-07_07/1node_2CHs_1.csv does not have column index 1."
     ]
    }
   ],
   "source": [
    "import os\n",
    "from module_reloader import reload_module\n",
    "\n",
    "reload_module('ASSR_function')\n",
    "\n",
    "from ASSR_function import calculate_parameters, plot_results\n",
    "\n",
    "# array to save the results\n",
    "results = []\n",
    "\n",
    "# Access the data files stored locally\n",
    "base_dir = \"/Users/ruochending/Documents/MATLAB/Measurements-03_07\"\n",
    "file_names = [\"assr1.csv\", \"assr2.csv\", \"assr3.csv\", \"assr4.csv\"]\n",
    "file_paths = [os.path.join(base_dir, file_name) for file_name in file_names]\n",
    "\n",
    "for file_path in file_paths:\n",
    "    result = calculate_parameters(file_path, column_index=1, start_from=0, target_frequency=80, target_bandwidth=1)\n",
    "    if result:\n",
    "        snr, peak_freq, peak_power, noise_power_avg, peak_50Hz_power, eighty_to_fifty_ratio, freq_full, psdx_full, peak_50Hz_full = result\n",
    "        \n",
    "        results.append([os.path.basename(file_path), round(snr, 2), round(peak_freq, 2), round(peak_power, 2), round(noise_power_avg, 2), round(peak_50Hz_power, 2), round(eighty_to_fifty_ratio, 2)])\n",
    "\n",
    "headers = [\"File Name\", \"SNR (dB)\", \"Peak Frequency (Hz)\", \"Peak Power (dB/Hz)\", \"Average Noise Power (dB/Hz)\", \"Peak 50Hz Power (dB/Hz)\", \"80Hz to 50Hz Ratio (dB)\"]\n",
    "\n",
    "column_width = 30\n",
    "\n",
    "# print column names\n",
    "print(\"\".ljust(column_width), end=\"\")\n",
    "for result in results:\n",
    "    print(result[0].ljust(column_width), end=\"\")\n",
    "print(\"\\n\" + \"-\" * (column_width * (len(results) + 1)))\n",
    "\n",
    "# print results\n",
    "for i in range(1, len(headers)):\n",
    "    print(headers[i].ljust(column_width), end=\"\")\n",
    "    for result in results:\n",
    "        print(str(result[i]).ljust(column_width), end=\"\")\n",
    "    print()\n",
    "\n",
    "# plot\n",
    "for file_path in file_paths:\n",
    "    result = calculate_parameters(file_path, column_index=1, start_from=0, target_frequency=80, target_bandwidth=1)\n",
    "    if result:\n",
    "        snr, peak_freq, peak_power, noise_power_avg, peak_50Hz_power, eighty_to_fifty_ratio, freq_full, psdx_full, peak_50Hz_full = result\n",
    "        \n",
    "        plot_results(freq_full, psdx_full, peak_freq, 10 ** (peak_power / 10), peak_50Hz_full, 10 ** (peak_50Hz_power / 10), snr, 10 ** (noise_power_avg / 10), eighty_to_fifty_ratio, file_name=os.path.basename(file_path), plot_title=\"Periodogram Using FFT for ASSR 80Hz -- small needle electrodes\", y_range=(-140, -20))"
   ]
  }
 ],
 "metadata": {
  "kernelspec": {
   "display_name": "base",
   "language": "python",
   "name": "python3"
  },
  "language_info": {
   "codemirror_mode": {
    "name": "ipython",
    "version": 3
   },
   "file_extension": ".py",
   "mimetype": "text/x-python",
   "name": "python",
   "nbconvert_exporter": "python",
   "pygments_lexer": "ipython3",
   "version": "3.11.7"
  }
 },
 "nbformat": 4,
 "nbformat_minor": 2
}
